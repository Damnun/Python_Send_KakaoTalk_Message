import kakao_utils

KAKAO_TOKEN_FILENAME = "res/kakao_message/kakao_token.json"
KAKAO_APP_KEY = "25e4c5fa84ea6248331959b692f7cb1b"

# 토큰 업데이트
tokens = kakao_utils.update_tokens(KAKAO_APP_KEY, KAKAO_TOKEN_FILENAME)

# 업데이트한 토큰 저장하기
print("뭐해")
save_tokens(KAKAO_TOKEN_FILENAME, tokens)

# 텍스트 템플릿 형식 만들기
template = {
    "object_type": "text",
    "text": "Hello, world!",
    "link" {
        "web_url" : "www.naver.com"
    },
}

# 카카오톡 메시지 보내기
res = kakao_utils.send_message(KAKAO_TOKEN_FILENAME, template)
if res.status_code != 200:
    print("error! because ", response.json())
else:
    print("메시지를 성공적으로 보냈습니다.")
